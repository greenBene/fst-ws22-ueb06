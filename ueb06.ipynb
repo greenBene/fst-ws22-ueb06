{
 "cells": [
  {
   "cell_type": "code",
   "execution_count": 2,
   "metadata": {},
   "outputs": [],
   "source": [
    "import pandas as pd\n",
    "from scipy.stats import mannwhitneyu\n",
    "import math"
   ]
  },
  {
   "cell_type": "code",
   "execution_count": 5,
   "metadata": {},
   "outputs": [],
   "source": [
    "def read_file(file, sample_size=None):\n",
    "    df = pd.read_csv(\n",
    "    file, \n",
    "    sep=r\"\\[|\\]\\s=\",\n",
    "    index_col=False,\n",
    "    skipinitialspace=True,\n",
    "    names=['Variable', 'Project', 'Ratio'],\n",
    "    engine='python',\n",
    "    usecols=['Project', 'Ratio'],)\n",
    "    df = df[df['Ratio'] != \" NaN\"]\n",
    "    df['Ratio'] = pd.to_numeric(df['Ratio'])\n",
    "    if(sample_size != None):\n",
    "        df = df.sample(sample_size)\n",
    "    return df\n"
   ]
  },
  {
   "attachments": {},
   "cell_type": "markdown",
   "metadata": {},
   "source": [
    "# Aufgabe 2 a)"
   ]
  },
  {
   "cell_type": "code",
   "execution_count": 6,
   "metadata": {},
   "outputs": [
    {
     "name": "stdout",
     "output_type": "stream",
     "text": [
      "Aufgabe 2 a)\n",
      "Python Try Statment Ratio Mean:0.006900309374583592\n",
      "Python Try Statment Ratio Variance:7.876837402009337e-05\n",
      "Java Try Statment Ratio Mean:0.012471396678912628\n",
      "Java Try Statment Ratio Variance:0.0002250227409382086\n",
      "Mann-Whitney U Test p-value: 0.0\n",
      "Are the results significant? True\n",
      "Cohend's d (Effektstärke): 0.4520301764675946\n",
      "\n"
     ]
    }
   ],
   "source": [
    "sample_size = 100_000\n",
    "significance_niveau = 0.01\n",
    "\n",
    "python_try_statement_ratio_df = read_file('./python_ratio.txt', sample_size)\n",
    "java_try_statement_ratio_df = read_file('./java_ratio.txt', sample_size)\n",
    "\n",
    "python_try_statement_ratio_mean = python_try_statement_ratio_df['Ratio'].mean()\n",
    "python_try_statement_ratio_variance = python_try_statement_ratio_df['Ratio'].var()\n",
    "\n",
    "java_try_statement_ratio_mean = java_try_statement_ratio_df['Ratio'].mean()\n",
    "java_try_statement_ratio_variance = java_try_statement_ratio_df['Ratio'].var()\n",
    "\n",
    "cohens_d = abs(python_try_statement_ratio_mean - java_try_statement_ratio_mean) / \\\n",
    "            math.sqrt((python_try_statement_ratio_variance+java_try_statement_ratio_variance)/2)\n",
    "\n",
    "\n",
    "print(\"Aufgabe 2 a)\")\n",
    "print('Python Try Statment Ratio Mean:' + str(python_try_statement_ratio_mean))\n",
    "print('Python Try Statment Ratio Variance:'+str(python_try_statement_ratio_variance))\n",
    "print('Java Try Statment Ratio Mean:' + str(java_try_statement_ratio_mean))\n",
    "print('Java Try Statment Ratio Variance:' + str(java_try_statement_ratio_variance))\n",
    "\n",
    "results = mannwhitneyu(java_try_statement_ratio_df['Ratio'], python_try_statement_ratio_df['Ratio'])\n",
    "\n",
    "print(\"Mann-Whitney U Test p-value: \" + str(results.pvalue))\n",
    "print(\"Are the results significant? \" + str(results.pvalue < 0.01))\n",
    "\n",
    "print(f\"Cohend's d (Effektstärke): {cohens_d}\")\n",
    "print()"
   ]
  },
  {
   "attachments": {},
   "cell_type": "markdown",
   "metadata": {},
   "source": [
    "# Aufgabe 2 b)"
   ]
  },
  {
   "cell_type": "code",
   "execution_count": 9,
   "metadata": {},
   "outputs": [
    {
     "name": "stdout",
     "output_type": "stream",
     "text": [
      "Aufgabe 2 b)\n",
      "#1, upper_bound: 100000, lower_bound=1, size: 50000, is_significant: True\n",
      "#2, upper_bound: 50000, lower_bound=1, size: 25000, is_significant: True\n",
      "#3, upper_bound: 25000, lower_bound=1, size: 12500, is_significant: True\n",
      "#4, upper_bound: 12500, lower_bound=1, size: 6250, is_significant: True\n",
      "#5, upper_bound: 6250, lower_bound=1, size: 3125, is_significant: True\n",
      "#6, upper_bound: 3125, lower_bound=1, size: 1563, is_significant: True\n",
      "#7, upper_bound: 1563, lower_bound=1, size: 782, is_significant: True\n",
      "#8, upper_bound: 782, lower_bound=1, size: 391, is_significant: True\n",
      "#9, upper_bound: 391, lower_bound=1, size: 196, is_significant: False\n",
      "#10, upper_bound: 391, lower_bound=196, size: 293, is_significant: True\n",
      "#11, upper_bound: 293, lower_bound=196, size: 244, is_significant: True\n",
      "#12, upper_bound: 244, lower_bound=196, size: 220, is_significant: False\n",
      "#13, upper_bound: 244, lower_bound=220, size: 232, is_significant: False\n",
      "#14, upper_bound: 244, lower_bound=232, size: 238, is_significant: True\n",
      "#15, upper_bound: 238, lower_bound=232, size: 235, is_significant: False\n",
      "#16, upper_bound: 238, lower_bound=235, size: 236, is_significant: True\n",
      "#17, upper_bound: 236, lower_bound=235, size: 235, is_significant: False\n",
      "\n"
     ]
    }
   ],
   "source": [
    "python_start = read_file('./python_ratio.txt', sample_size)\n",
    "java_start = read_file('./java_ratio.txt', sample_size)\n",
    "\n",
    "def mannwhitneyu_p(n):\n",
    "    python_df = python_start.sample(n)\n",
    "    java_df = java_start.sample(n)\n",
    "    return mannwhitneyu(java_df['Ratio'], python_df['Ratio']).pvalue\n",
    "\n",
    "python_full = read_file('./python_ratio.txt', sample_size)\n",
    "java_full = read_file('./java_ratio.txt', sample_size)\n",
    "\n",
    "uppper_bound = 100_000\n",
    "lower_bound = 1\n",
    "test_per_iteration = 50\n",
    "\n",
    "counter = 0\n",
    "\n",
    "print(\"Aufgabe 2 b)\")\n",
    "while True:\n",
    "    current_sample_size = int((uppper_bound+lower_bound)/2)\n",
    "\n",
    "    pvalues = list()\n",
    "    for i in range(test_per_iteration):\n",
    "        pvalues.append(mannwhitneyu_p(current_sample_size))\n",
    "    p = sum(pvalues) / len(pvalues)\n",
    "    \n",
    "    counter+=1\n",
    "    print(f\"#{counter}, upper_bound: {uppper_bound}, lower_bound={lower_bound}, size: {current_sample_size}, is_significant: {p < 0.01}\")\n",
    "    \n",
    "    if(abs(uppper_bound - lower_bound) <= 1):\n",
    "        break\n",
    "\n",
    "    if(p < 0.01):\n",
    "        uppper_bound = current_sample_size\n",
    "    else:\n",
    "        lower_bound = current_sample_size\n",
    "print()"
   ]
  },
  {
   "attachments": {},
   "cell_type": "markdown",
   "metadata": {},
   "source": [
    "# Aufgabe 3"
   ]
  },
  {
   "cell_type": "code",
   "execution_count": 5,
   "metadata": {},
   "outputs": [
    {
     "name": "stdout",
     "output_type": "stream",
     "text": [
      "Aufgabe 3\n",
      "Cohend's d (Effektstärke): 0.17501356403969534\n"
     ]
    }
   ],
   "source": [
    "python_try_statement_ratio_df = read_file('./python_ratio.txt')\n",
    "java_try_statement_ratio_df = read_file('./java_ratio.txt')\n",
    "\n",
    "python_try_statement_ratio_mean = python_try_statement_ratio_df['Ratio'].mean()\n",
    "python_try_statement_ratio_variance = python_try_statement_ratio_df['Ratio'].var()\n",
    "\n",
    "java_try_statement_ratio_mean = java_try_statement_ratio_df['Ratio'].mean()\n",
    "java_try_statement_ratio_variance = java_try_statement_ratio_df['Ratio'].var()\n",
    "\n",
    "cohens_d = abs(python_try_statement_ratio_mean - java_try_statement_ratio_mean) / \\\n",
    "            math.sqrt((python_try_statement_ratio_variance+java_try_statement_ratio_variance)/2)\n",
    "\n",
    "print(\"Aufgabe 3\")\n",
    "print(f\"Cohend's d (Effektstärke): {cohens_d}\")"
   ]
  },
  {
   "cell_type": "code",
   "execution_count": null,
   "metadata": {},
   "outputs": [],
   "source": []
  }
 ],
 "metadata": {
  "kernelspec": {
   "display_name": "env",
   "language": "python",
   "name": "python3"
  },
  "language_info": {
   "codemirror_mode": {
    "name": "ipython",
    "version": 3
   },
   "file_extension": ".py",
   "mimetype": "text/x-python",
   "name": "python",
   "nbconvert_exporter": "python",
   "pygments_lexer": "ipython3",
   "version": "3.10.8"
  },
  "orig_nbformat": 4,
  "vscode": {
   "interpreter": {
    "hash": "f2fb3bbee0fcf91a1778ddc73c89b4d6ae1479051db5d1b69eecc6f0841b72f6"
   }
  }
 },
 "nbformat": 4,
 "nbformat_minor": 2
}
